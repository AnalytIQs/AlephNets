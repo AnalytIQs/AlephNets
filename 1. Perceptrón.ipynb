{
 "cells": [
  {
   "cell_type": "markdown",
   "metadata": {},
   "source": [
    "# Perceptrón.\n",
    "\n",
    "<center>\n",
    "<img src = \"./imagenes/perceptron_variantes.png\" width = \"600px\">\n",
    "</center>"
   ]
  },
  {
   "cell_type": "code",
   "execution_count": 16,
   "metadata": {},
   "outputs": [],
   "source": [
    "from perceptron import Perceptron, add_bias, predictList"
   ]
  },
  {
   "cell_type": "code",
   "execution_count": 17,
   "metadata": {},
   "outputs": [],
   "source": [
    "# Dataset linealmente separable.\n",
    "X = [[0, 0], [0, 1], [1, 0], [1, 1]]\n",
    "Y = [-1, -1, 1, 1]"
   ]
  },
  {
   "cell_type": "code",
   "execution_count": 18,
   "metadata": {},
   "outputs": [],
   "source": [
    "# Initialize perceptron with 2 neurons and Relu activation function.\n",
    "model = Perceptron(num_neurons = 2, activation = \"sign\", criterion = \"perceptron_criterion\")"
   ]
  },
  {
   "cell_type": "code",
   "execution_count": 19,
   "metadata": {},
   "outputs": [
    {
     "name": "stdout",
     "output_type": "stream",
     "text": [
      "-- Predictions before training: --\n",
      "\n",
      "Point:  [0, 0]\n",
      "True Label:  -1\n",
      "Prediction:  1\n",
      "Error:  1\n",
      "\n",
      "Point:  [0, 1]\n",
      "True Label:  -1\n",
      "Prediction:  1.0\n",
      "Error:  1.0\n",
      "\n",
      "Point:  [1, 0]\n",
      "True Label:  1\n",
      "Prediction:  1.0\n",
      "Error:  0\n",
      "\n",
      "Point:  [1, 1]\n",
      "True Label:  1\n",
      "Prediction:  1.0\n",
      "Error:  0\n",
      "\n",
      "Criterion Error:  [2. 2.]\n",
      "Accuracy:  0.5\n",
      "Model Weights:  [0.28556401 0.84928036]\n"
     ]
    }
   ],
   "source": [
    "print(\"-- Predictions before training: --\")\n",
    "print(\"\")\n",
    "predictList(model, X, Y, show_results = True)\n",
    "print(\"Model Weights: \", model.getWeights())"
   ]
  },
  {
   "cell_type": "code",
   "execution_count": 20,
   "metadata": {},
   "outputs": [],
   "source": [
    "# Fit the model.\n",
    "model.fit(X, Y, max_iterations = 1000)"
   ]
  },
  {
   "cell_type": "code",
   "execution_count": 21,
   "metadata": {},
   "outputs": [
    {
     "data": {
      "text/plain": [
       "1"
      ]
     },
     "execution_count": 21,
     "metadata": {},
     "output_type": "execute_result"
    }
   ],
   "source": [
    "model.predict([0, 0])"
   ]
  },
  {
   "cell_type": "code",
   "execution_count": 22,
   "metadata": {},
   "outputs": [
    {
     "data": {
      "text/plain": [
       "-1"
      ]
     },
     "execution_count": 22,
     "metadata": {},
     "output_type": "execute_result"
    }
   ],
   "source": [
    "import numpy as np\n",
    "np.sign(-2)"
   ]
  },
  {
   "cell_type": "code",
   "execution_count": 23,
   "metadata": {},
   "outputs": [
    {
     "name": "stdout",
     "output_type": "stream",
     "text": [
      "-- Predictions after training: --\n",
      "\n",
      "Point:  [0, 0]\n",
      "True Label:  -1\n",
      "Prediction:  1\n",
      "Error:  1\n",
      "\n",
      "Point:  [0, 1]\n",
      "True Label:  -1\n",
      "Prediction:  1\n",
      "Error:  1\n",
      "\n",
      "Point:  [1, 0]\n",
      "True Label:  1\n",
      "Prediction:  1.0\n",
      "Error:  0\n",
      "\n",
      "Point:  [1, 1]\n",
      "True Label:  1\n",
      "Prediction:  1.0\n",
      "Error:  0\n",
      "\n",
      "Criterion Error:  [2. 2.]\n",
      "Accuracy:  0.5\n",
      "Model Weights:  [2. 0.]\n"
     ]
    }
   ],
   "source": [
    "print(\"-- Predictions after training: --\")\n",
    "print(\"\")\n",
    "predictList(model, X, Y, show_results = True)\n",
    "print(\"Model Weights: \", model.getWeights())"
   ]
  },
  {
   "cell_type": "markdown",
   "metadata": {},
   "source": [
    "## Tensorflow.\n",
    "\n",
    "Link: https://www.tutorialspoint.com/tensorflow/tensorflow_single_layer_perceptron.htm"
   ]
  },
  {
   "cell_type": "code",
   "execution_count": null,
   "metadata": {},
   "outputs": [],
   "source": []
  }
 ],
 "metadata": {
  "kernelspec": {
   "display_name": "Python 3",
   "language": "python",
   "name": "python3"
  },
  "language_info": {
   "codemirror_mode": {
    "name": "ipython",
    "version": 3
   },
   "file_extension": ".py",
   "mimetype": "text/x-python",
   "name": "python",
   "nbconvert_exporter": "python",
   "pygments_lexer": "ipython3",
   "version": "3.7.3"
  }
 },
 "nbformat": 4,
 "nbformat_minor": 2
}
