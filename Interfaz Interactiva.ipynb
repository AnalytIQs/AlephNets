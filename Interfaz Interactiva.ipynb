{
 "cells": [
  {
   "cell_type": "markdown",
   "metadata": {},
   "source": [
    "# Interfaz Interactiva (AlephNets).\n",
    "\n",
    "<center>\n",
    "<img src = \"./imagenes/logo_alephnets.png\" width = \"250px\">\n",
    "</center>\n",
    "\n",
    "\n",
    "---\n",
    "\n",
    "- **Autor@s:** A.T\n",
    "- **Licencia de Uso:** MIT.\n",
    "- **Email:** \n",
    "- **Google Site:** \n",
    "- **Linkedin:** link.com\n",
    "\n",
    "---"
   ]
  },
  {
   "cell_type": "code",
   "execution_count": 2,
   "metadata": {},
   "outputs": [],
   "source": [
    "# Cargar AlephNets.\n",
    "%run ./AlephNets.ipynb"
   ]
  },
  {
   "cell_type": "markdown",
   "metadata": {},
   "source": [
    "### 1. Perceptrón."
   ]
  },
  {
   "cell_type": "markdown",
   "metadata": {},
   "source": [
    "#### 1.1 Perceptron Criterion."
   ]
  },
  {
   "cell_type": "code",
   "execution_count": null,
   "metadata": {},
   "outputs": [],
   "source": [
    "# Dataset linealmente separable.\n",
    "X = [[0, 0], [0, 1], [1, 0], [1, 1]]\n",
    "Y = [-1, -1, 1, 1]"
   ]
  },
  {
   "cell_type": "code",
   "execution_count": null,
   "metadata": {},
   "outputs": [],
   "source": [
    "# Initialize perceptron with 2 neurons and Relu activation function.\n",
    "model = Perceptron(num_neurons = 2, activation = \"sign\", criterion = \"perceptron_criterion\")"
   ]
  },
  {
   "cell_type": "code",
   "execution_count": 4,
   "metadata": {},
   "outputs": [
    {
     "name": "stdout",
     "output_type": "stream",
     "text": [
      "-- Predictions before training: --\n",
      "\n",
      "Point:  [0, 0, 1]\n",
      "True Label:  -1\n",
      "Prediction:  -1\n",
      "Error:  [0 0 0]\n",
      "\n",
      "Point:  [0, 1, 1]\n",
      "True Label:  -1\n",
      "Prediction:  -1\n",
      "Error:  [0 0 0]\n",
      "\n",
      "Point:  [1, 0, 1]\n",
      "True Label:  1\n",
      "Prediction:  1\n",
      "Error:  [0 0 0]\n",
      "\n",
      "Point:  [1, 1, 1]\n",
      "True Label:  1\n",
      "Prediction:  1\n",
      "Error:  [0 0 0]\n",
      "\n",
      "Criterion Error:  [0. 0. 0.]\n",
      "Accuracy:  1.0\n",
      "Model Weights:  [ 2.78107607  0.12416055 -1.52148794]\n"
     ]
    }
   ],
   "source": [
    "print(\"-- Predictions before training: --\")\n",
    "print(\"\")\n",
    "model.predictList(X, Y, show_results = True)\n",
    "print(\"Model Weights: \", model.getWeights())"
   ]
  },
  {
   "cell_type": "code",
   "execution_count": 6,
   "metadata": {},
   "outputs": [],
   "source": [
    "# Fit the model.\n",
    "model.fit(X, Y, max_iterations = 100)"
   ]
  },
  {
   "cell_type": "code",
   "execution_count": 7,
   "metadata": {},
   "outputs": [
    {
     "name": "stdout",
     "output_type": "stream",
     "text": [
      "-- Predictions after training: --\n",
      "\n",
      "Point:  [0, 0, 1]\n",
      "True Label:  -1\n",
      "Prediction:  -1\n",
      "Error:  [0 0 0]\n",
      "\n",
      "Point:  [0, 1, 1]\n",
      "True Label:  -1\n",
      "Prediction:  -1\n",
      "Error:  [0 0 0]\n",
      "\n",
      "Point:  [1, 0, 1]\n",
      "True Label:  1\n",
      "Prediction:  1\n",
      "Error:  [0 0 0]\n",
      "\n",
      "Point:  [1, 1, 1]\n",
      "True Label:  1\n",
      "Prediction:  1\n",
      "Error:  [0 0 0]\n",
      "\n",
      "Criterion Error:  [0. 0. 0.]\n",
      "Accuracy:  1.0\n",
      "Model Weights:  [ 2.78107607  0.12416055 -1.52148794]\n"
     ]
    }
   ],
   "source": [
    "print(\"-- Predictions after training: --\")\n",
    "print(\"\")\n",
    "model.predictList(X, Y, show_results = True)\n",
    "print(\"Model Weights: \", model.getWeights())"
   ]
  },
  {
   "cell_type": "code",
   "execution_count": null,
   "metadata": {},
   "outputs": [],
   "source": []
  }
 ],
 "metadata": {
  "kernelspec": {
   "display_name": "Python 3",
   "language": "python",
   "name": "python3"
  },
  "language_info": {
   "codemirror_mode": {
    "name": "ipython",
    "version": 3
   },
   "file_extension": ".py",
   "mimetype": "text/x-python",
   "name": "python",
   "nbconvert_exporter": "python",
   "pygments_lexer": "ipython3",
   "version": "3.7.3"
  }
 },
 "nbformat": 4,
 "nbformat_minor": 2
}
